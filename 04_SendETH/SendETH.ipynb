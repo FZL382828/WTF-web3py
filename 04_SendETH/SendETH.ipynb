{
 "cells": [
  {
   "cell_type": "code",
   "execution_count": 1,
   "id": "682b751a",
   "metadata": {},
   "outputs": [],
   "source": [
    "from web3 import Web3, EthereumTesterProvider"
   ]
  },
  {
   "cell_type": "code",
   "execution_count": 2,
   "id": "3f281d38",
   "metadata": {},
   "outputs": [],
   "source": [
    "w3 = Web3(EthereumTesterProvider())"
   ]
  },
  {
   "cell_type": "code",
   "execution_count": 3,
   "id": "902b456d",
   "metadata": {},
   "outputs": [
    {
     "data": {
      "text/plain": [
       "True"
      ]
     },
     "execution_count": 3,
     "metadata": {},
     "output_type": "execute_result"
    }
   ],
   "source": [
    "w3.is_connected()"
   ]
  },
  {
   "cell_type": "code",
   "execution_count": 4,
   "id": "daca5f81",
   "metadata": {},
   "outputs": [
    {
     "data": {
      "text/plain": [
       "AttributeDict({'number': 0,\n",
       " 'hash': HexBytes('0x42bcfcc168c8aeb1183071be32d5facbeba5f8b0dd701b088a042358c0e0ea60'),\n",
       " 'parentHash': HexBytes('0x0000000000000000000000000000000000000000000000000000000000000000'),\n",
       " 'nonce': HexBytes('0x0000000000000000'),\n",
       " 'sha3Uncles': HexBytes('0x1dcc4de8dec75d7aab85b567b6ccd41ad312451b948a7413f0a142fd40d49347'),\n",
       " 'logsBloom': HexBytes('0x00'),\n",
       " 'transactionsRoot': HexBytes('0x56e81f171bcc55a6ff8345e692c0f86e5b48e01b996cadc001622fb5e363b421'),\n",
       " 'receiptsRoot': HexBytes('0x56e81f171bcc55a6ff8345e692c0f86e5b48e01b996cadc001622fb5e363b421'),\n",
       " 'stateRoot': HexBytes('0xf1588db9a9f1ed91effabdec31f93cb4212b008c8b8ba047fd55fabebf6fd727'),\n",
       " 'miner': '0x0000000000000000000000000000000000000000',\n",
       " 'difficulty': 0,\n",
       " 'totalDifficulty': 0,\n",
       " 'mixHash': HexBytes('0x0000000000000000000000000000000000000000000000000000000000000000'),\n",
       " 'size': 548,\n",
       " 'extraData': HexBytes('0x0000000000000000000000000000000000000000000000000000000000000000'),\n",
       " 'gasLimit': 30029122,\n",
       " 'gasUsed': 0,\n",
       " 'timestamp': 1702530112,\n",
       " 'transactions': [],\n",
       " 'uncles': [],\n",
       " 'baseFeePerGas': 1000000000,\n",
       " 'withdrawals': [],\n",
       " 'withdrawalsRoot': HexBytes('0x56e81f171bcc55a6ff8345e692c0f86e5b48e01b996cadc001622fb5e363b421')})"
      ]
     },
     "execution_count": 4,
     "metadata": {},
     "output_type": "execute_result"
    }
   ],
   "source": [
    "w3.eth.get_block('latest')"
   ]
  },
  {
   "cell_type": "code",
   "execution_count": 17,
   "id": "1525dbab",
   "metadata": {},
   "outputs": [],
   "source": [
    "# 创建随机的account对象\n",
    "account1 = w3.eth.account.create()"
   ]
  },
  {
   "cell_type": "code",
   "execution_count": 6,
   "id": "6a703b7a",
   "metadata": {},
   "outputs": [],
   "source": [
    "# 从已有密钥中生成\n",
    "account2 = w3.eth.account.from_key(\"0x227dbb8586117d55284e26620bc76534dfbd2394be34cf4a09cb775d593b6f2b\")"
   ]
  },
  {
   "cell_type": "code",
   "execution_count": 7,
   "id": "f3f8b6f1",
   "metadata": {},
   "outputs": [
    {
     "name": "stdout",
     "output_type": "stream",
     "text": [
      "0x1A3CE7d615867019a6c949D307e2802A72ca4b26\n",
      "0xe16C1623c1AA7D919cd2241d8b36d9E79C1Be2A2\n",
      "private key=0xfab317ba23e6396d76162070a8fa9a9c50e8a0bc32d57f4ab1fb0d42a0854270\n"
     ]
    }
   ],
   "source": [
    "print(account1.address)\n",
    "print(account2.address)\n",
    "print(f'private key={w3.to_hex(account1.key)}')"
   ]
  },
  {
   "cell_type": "code",
   "execution_count": 8,
   "id": "d98f3258",
   "metadata": {
    "scrolled": true
   },
   "outputs": [
    {
     "name": "stdout",
     "output_type": "stream",
     "text": [
      "0\n"
     ]
    }
   ],
   "source": [
    "print(w3.eth.get_transaction_count(account2.address))"
   ]
  },
  {
   "cell_type": "code",
   "execution_count": 18,
   "id": "90696269",
   "metadata": {},
   "outputs": [
    {
     "name": "stdout",
     "output_type": "stream",
     "text": [
      "0\n",
      "123123123123123\n"
     ]
    }
   ],
   "source": [
    "print(w3.eth.get_balance(account1.address))\n",
    "# eth-tester populates accounts with test ether:\n",
    "account3 = w3.eth.accounts[0]\n",
    "tx_hash = w3.eth.send_transaction({\n",
    "    \"from\": account3,\n",
    "    \"to\": account1.address,\n",
    "    \"value\": 123123123123123\n",
    "})\n",
    "print(w3.eth.get_balance(account1.address))"
   ]
  }
 ],
 "metadata": {
  "kernelspec": {
   "display_name": "Python 3 (ipykernel)",
   "language": "python",
   "name": "python3"
  },
  "language_info": {
   "codemirror_mode": {
    "name": "ipython",
    "version": 3
   },
   "file_extension": ".py",
   "mimetype": "text/x-python",
   "name": "python",
   "nbconvert_exporter": "python",
   "pygments_lexer": "ipython3",
   "version": "3.9.12"
  }
 },
 "nbformat": 4,
 "nbformat_minor": 5
}
