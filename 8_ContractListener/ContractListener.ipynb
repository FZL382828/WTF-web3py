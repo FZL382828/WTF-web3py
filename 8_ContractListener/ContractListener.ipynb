{
 "cells": [
  {
   "cell_type": "markdown",
   "metadata": {},
   "source": [
    "### 1. 声明`Provider`"
   ]
  },
  {
   "cell_type": "code",
   "execution_count": 128,
   "metadata": {},
   "outputs": [
    {
     "data": {
      "text/plain": [
       "True"
      ]
     },
     "execution_count": 128,
     "metadata": {},
     "output_type": "execute_result"
    }
   ],
   "source": [
    "from web3 import Web3\n",
    "# 准备 alchemy API \n",
    "# 可以参考https://github.com/AmazingAng/WTFSolidity/blob/main/Topics/Tools/TOOL04_Alchemy/readme.md \n",
    "ALCHEMY_MAINNET_URL = 'https://eth-mainnet.g.alchemy.com/v2/oKmOQKbneVkxgHZfibs-iFhIlIAl6HDN'\n",
    "Provider = Web3(Web3.HTTPProvider(ALCHEMY_MAINNET_URL))\n",
    "Provider.is_connected()"
   ]
  },
  {
   "cell_type": "markdown",
   "metadata": {},
   "source": [
    "### 2. 定义合约地址和合约`abi`"
   ]
  },
  {
   "cell_type": "code",
   "execution_count": 131,
   "metadata": {},
   "outputs": [],
   "source": [
    "# 定义合约地址\n",
    "contractAddress = Provider.to_checksum_address(\"0xdac17f958d2ee523a2206206994597c13d831ec7\")\n",
    "# 定义合约abi\n",
    "contractABI = '[{\"constant\":true,\"inputs\":[],\"name\":\"name\",\"outputs\":[{\"name\":\"\",\"type\":\"string\"}],\"payable\":false,\"stateMutability\":\"view\",\"type\":\"function\"},{\"constant\":false,\"inputs\":[{\"name\":\"_upgradedAddress\",\"type\":\"address\"}],\"name\":\"deprecate\",\"outputs\":[],\"payable\":false,\"stateMutability\":\"nonpayable\",\"type\":\"function\"},{\"constant\":false,\"inputs\":[{\"name\":\"_spender\",\"type\":\"address\"},{\"name\":\"_value\",\"type\":\"uint256\"}],\"name\":\"approve\",\"outputs\":[],\"payable\":false,\"stateMutability\":\"nonpayable\",\"type\":\"function\"},{\"constant\":true,\"inputs\":[],\"name\":\"deprecated\",\"outputs\":[{\"name\":\"\",\"type\":\"bool\"}],\"payable\":false,\"stateMutability\":\"view\",\"type\":\"function\"},{\"constant\":false,\"inputs\":[{\"name\":\"_evilUser\",\"type\":\"address\"}],\"name\":\"addBlackList\",\"outputs\":[],\"payable\":false,\"stateMutability\":\"nonpayable\",\"type\":\"function\"},{\"constant\":true,\"inputs\":[],\"name\":\"totalSupply\",\"outputs\":[{\"name\":\"\",\"type\":\"uint256\"}],\"payable\":false,\"stateMutability\":\"view\",\"type\":\"function\"},{\"constant\":false,\"inputs\":[{\"name\":\"_from\",\"type\":\"address\"},{\"name\":\"_to\",\"type\":\"address\"},{\"name\":\"_value\",\"type\":\"uint256\"}],\"name\":\"transferFrom\",\"outputs\":[],\"payable\":false,\"stateMutability\":\"nonpayable\",\"type\":\"function\"},{\"constant\":true,\"inputs\":[],\"name\":\"upgradedAddress\",\"outputs\":[{\"name\":\"\",\"type\":\"address\"}],\"payable\":false,\"stateMutability\":\"view\",\"type\":\"function\"},{\"constant\":true,\"inputs\":[{\"name\":\"\",\"type\":\"address\"}],\"name\":\"balances\",\"outputs\":[{\"name\":\"\",\"type\":\"uint256\"}],\"payable\":false,\"stateMutability\":\"view\",\"type\":\"function\"},{\"constant\":true,\"inputs\":[],\"name\":\"decimals\",\"outputs\":[{\"name\":\"\",\"type\":\"uint256\"}],\"payable\":false,\"stateMutability\":\"view\",\"type\":\"function\"},{\"constant\":true,\"inputs\":[],\"name\":\"maximumFee\",\"outputs\":[{\"name\":\"\",\"type\":\"uint256\"}],\"payable\":false,\"stateMutability\":\"view\",\"type\":\"function\"},{\"constant\":true,\"inputs\":[],\"name\":\"_totalSupply\",\"outputs\":[{\"name\":\"\",\"type\":\"uint256\"}],\"payable\":false,\"stateMutability\":\"view\",\"type\":\"function\"},{\"constant\":false,\"inputs\":[],\"name\":\"unpause\",\"outputs\":[],\"payable\":false,\"stateMutability\":\"nonpayable\",\"type\":\"function\"},{\"constant\":true,\"inputs\":[{\"name\":\"_maker\",\"type\":\"address\"}],\"name\":\"getBlackListStatus\",\"outputs\":[{\"name\":\"\",\"type\":\"bool\"}],\"payable\":false,\"stateMutability\":\"view\",\"type\":\"function\"},{\"constant\":true,\"inputs\":[{\"name\":\"\",\"type\":\"address\"},{\"name\":\"\",\"type\":\"address\"}],\"name\":\"allowed\",\"outputs\":[{\"name\":\"\",\"type\":\"uint256\"}],\"payable\":false,\"stateMutability\":\"view\",\"type\":\"function\"},{\"constant\":true,\"inputs\":[],\"name\":\"paused\",\"outputs\":[{\"name\":\"\",\"type\":\"bool\"}],\"payable\":false,\"stateMutability\":\"view\",\"type\":\"function\"},{\"constant\":true,\"inputs\":[{\"name\":\"who\",\"type\":\"address\"}],\"name\":\"balanceOf\",\"outputs\":[{\"name\":\"\",\"type\":\"uint256\"}],\"payable\":false,\"stateMutability\":\"view\",\"type\":\"function\"},{\"constant\":false,\"inputs\":[],\"name\":\"pause\",\"outputs\":[],\"payable\":false,\"stateMutability\":\"nonpayable\",\"type\":\"function\"},{\"constant\":true,\"inputs\":[],\"name\":\"getOwner\",\"outputs\":[{\"name\":\"\",\"type\":\"address\"}],\"payable\":false,\"stateMutability\":\"view\",\"type\":\"function\"},{\"constant\":true,\"inputs\":[],\"name\":\"owner\",\"outputs\":[{\"name\":\"\",\"type\":\"address\"}],\"payable\":false,\"stateMutability\":\"view\",\"type\":\"function\"},{\"constant\":true,\"inputs\":[],\"name\":\"symbol\",\"outputs\":[{\"name\":\"\",\"type\":\"string\"}],\"payable\":false,\"stateMutability\":\"view\",\"type\":\"function\"},{\"constant\":false,\"inputs\":[{\"name\":\"_to\",\"type\":\"address\"},{\"name\":\"_value\",\"type\":\"uint256\"}],\"name\":\"transfer\",\"outputs\":[],\"payable\":false,\"stateMutability\":\"nonpayable\",\"type\":\"function\"},{\"constant\":false,\"inputs\":[{\"name\":\"newBasisPoints\",\"type\":\"uint256\"},{\"name\":\"newMaxFee\",\"type\":\"uint256\"}],\"name\":\"setParams\",\"outputs\":[],\"payable\":false,\"stateMutability\":\"nonpayable\",\"type\":\"function\"},{\"constant\":false,\"inputs\":[{\"name\":\"amount\",\"type\":\"uint256\"}],\"name\":\"issue\",\"outputs\":[],\"payable\":false,\"stateMutability\":\"nonpayable\",\"type\":\"function\"},{\"constant\":false,\"inputs\":[{\"name\":\"amount\",\"type\":\"uint256\"}],\"name\":\"redeem\",\"outputs\":[],\"payable\":false,\"stateMutability\":\"nonpayable\",\"type\":\"function\"},{\"constant\":true,\"inputs\":[{\"name\":\"_owner\",\"type\":\"address\"},{\"name\":\"_spender\",\"type\":\"address\"}],\"name\":\"allowance\",\"outputs\":[{\"name\":\"remaining\",\"type\":\"uint256\"}],\"payable\":false,\"stateMutability\":\"view\",\"type\":\"function\"},{\"constant\":true,\"inputs\":[],\"name\":\"basisPointsRate\",\"outputs\":[{\"name\":\"\",\"type\":\"uint256\"}],\"payable\":false,\"stateMutability\":\"view\",\"type\":\"function\"},{\"constant\":true,\"inputs\":[{\"name\":\"\",\"type\":\"address\"}],\"name\":\"isBlackListed\",\"outputs\":[{\"name\":\"\",\"type\":\"bool\"}],\"payable\":false,\"stateMutability\":\"view\",\"type\":\"function\"},{\"constant\":false,\"inputs\":[{\"name\":\"_clearedUser\",\"type\":\"address\"}],\"name\":\"removeBlackList\",\"outputs\":[],\"payable\":false,\"stateMutability\":\"nonpayable\",\"type\":\"function\"},{\"constant\":true,\"inputs\":[],\"name\":\"MAX_UINT\",\"outputs\":[{\"name\":\"\",\"type\":\"uint256\"}],\"payable\":false,\"stateMutability\":\"view\",\"type\":\"function\"},{\"constant\":false,\"inputs\":[{\"name\":\"newOwner\",\"type\":\"address\"}],\"name\":\"transferOwnership\",\"outputs\":[],\"payable\":false,\"stateMutability\":\"nonpayable\",\"type\":\"function\"},{\"constant\":false,\"inputs\":[{\"name\":\"_blackListedUser\",\"type\":\"address\"}],\"name\":\"destroyBlackFunds\",\"outputs\":[],\"payable\":false,\"stateMutability\":\"nonpayable\",\"type\":\"function\"},{\"inputs\":[{\"name\":\"_initialSupply\",\"type\":\"uint256\"},{\"name\":\"_name\",\"type\":\"string\"},{\"name\":\"_symbol\",\"type\":\"string\"},{\"name\":\"_decimals\",\"type\":\"uint256\"}],\"payable\":false,\"stateMutability\":\"nonpayable\",\"type\":\"constructor\"},{\"anonymous\":false,\"inputs\":[{\"indexed\":false,\"name\":\"amount\",\"type\":\"uint256\"}],\"name\":\"Issue\",\"type\":\"event\"},{\"anonymous\":false,\"inputs\":[{\"indexed\":false,\"name\":\"amount\",\"type\":\"uint256\"}],\"name\":\"Redeem\",\"type\":\"event\"},{\"anonymous\":false,\"inputs\":[{\"indexed\":false,\"name\":\"newAddress\",\"type\":\"address\"}],\"name\":\"Deprecate\",\"type\":\"event\"},{\"anonymous\":false,\"inputs\":[{\"indexed\":false,\"name\":\"feeBasisPoints\",\"type\":\"uint256\"},{\"indexed\":false,\"name\":\"maxFee\",\"type\":\"uint256\"}],\"name\":\"Params\",\"type\":\"event\"},{\"anonymous\":false,\"inputs\":[{\"indexed\":false,\"name\":\"_blackListedUser\",\"type\":\"address\"},{\"indexed\":false,\"name\":\"_balance\",\"type\":\"uint256\"}],\"name\":\"DestroyedBlackFunds\",\"type\":\"event\"},{\"anonymous\":false,\"inputs\":[{\"indexed\":false,\"name\":\"_user\",\"type\":\"address\"}],\"name\":\"AddedBlackList\",\"type\":\"event\"},{\"anonymous\":false,\"inputs\":[{\"indexed\":false,\"name\":\"_user\",\"type\":\"address\"}],\"name\":\"RemovedBlackList\",\"type\":\"event\"},{\"anonymous\":false,\"inputs\":[{\"indexed\":true,\"name\":\"owner\",\"type\":\"address\"},{\"indexed\":true,\"name\":\"spender\",\"type\":\"address\"},{\"indexed\":false,\"name\":\"value\",\"type\":\"uint256\"}],\"name\":\"Approval\",\"type\":\"event\"},{\"anonymous\":false,\"inputs\":[{\"indexed\":true,\"name\":\"from\",\"type\":\"address\"},{\"indexed\":true,\"name\":\"to\",\"type\":\"address\"},{\"indexed\":false,\"name\":\"value\",\"type\":\"uint256\"}],\"name\":\"Transfer\",\"type\":\"event\"},{\"anonymous\":false,\"inputs\":[],\"name\":\"Pause\",\"type\":\"event\"},{\"anonymous\":false,\"inputs\":[],\"name\":\"Unpause\",\"type\":\"event\"}]'"
   ]
  },
  {
   "cell_type": "markdown",
   "metadata": {},
   "source": [
    "### 3. 创建合约实例与事件过滤器实例"
   ]
  },
  {
   "cell_type": "code",
   "execution_count": 140,
   "metadata": {},
   "outputs": [],
   "source": [
    "# 创建合约实例\n",
    "USDTcontract = Provider.eth.contract(address = contractAddress, abi = contractABI)\n",
    "# 创建事件过滤器实例\n",
    "event_filter = USDTcontract.events.Transfer.create_filter(fromBlock=\"pending\",toBlock=\"pending\")"
   ]
  },
  {
   "cell_type": "markdown",
   "metadata": {},
   "source": [
    "### 4. 监听`USDT`合约的`Transfer`事件"
   ]
  },
  {
   "cell_type": "code",
   "execution_count": 141,
   "metadata": {},
   "outputs": [
    {
     "name": "stdout",
     "output_type": "stream",
     "text": [
      "解析事件：\n",
      "0x68707909e06ba2D88Bc12CA294a5b0678Bb099AF -> 0x74de5d4FCbf63E00296fd95d33236B9794016631 600\n",
      "0x74de5d4FCbf63E00296fd95d33236B9794016631 -> 0x51C72848c68a965f66FA7a88855F9f7784502a7F 595.542\n",
      "0x74de5d4FCbf63E00296fd95d33236B9794016631 -> 0x2aCf35C9A3F4c5C3F4c78EF5Fb64c3EE82f07c45 4.458\n",
      "0xfFfa3567453f675b6D95054dc502a3A2A298C0B1 -> 0xd49ca47c635595c7cC907E3E6d3244537F30E781 20.2043\n",
      "0x7D6C706975c83B33f6f73bf7380d8ED08d717244 -> 0x32Ca2FE6a7A4e80C13217C213CFb02676e8307cA 700\n",
      "0x0802Dd2EDD3f9faD39A9173B4595be819f201d61 -> 0x546b0216df01778D9f8FD7A19767E3efE2ca33b2 64\n",
      "0x343f0a22b13E63286955085992c63917124c12e4 -> 0x0802Dd2EDD3f9faD39A9173B4595be819f201d61 263.709901\n",
      "0xb0239b7D0E3BBdc504076592105Ce545ad5Fa528 -> 0x0802Dd2EDD3f9faD39A9173B4595be819f201d61 14.847996\n",
      "0x236669c4825C7Add4C34e574F73a4c128D7dB932 -> 0x0802Dd2EDD3f9faD39A9173B4595be819f201d61 250\n",
      "0x97Ed4bd8449FA7335fF2849949D7a5e3528DB2E2 -> 0x056ECDA018F78D8aacFAE85a2bD6FBD28754e217 0\n",
      "0x27646B1C868ECcd905dD095ea21D9176ac811718 -> 0x577c2175e276B83DA2c29CfA51e17Bc587276bb8 0\n",
      "0xA76c5a4Fb9D344686b09A0c2c518132717966B68 -> 0xb101637bB8eF3d65DbcE4EC8F8117e02613E516F 0\n",
      "0x27646b1C8B488c68c67d83BA82351b70a3811718 -> 0x57746fBaa318B78eec312eEeB30f0Fa0eb766bB8 0\n",
      "0x46340b20830761efd32832A74d7169B29FEB9758 -> 0x3482002744d4a8d435F07Ccd7215EC0bDab89D39 10.664027\n",
      "0xf89d7b9c864f589bbF53a82105107622B35EaA40 -> 0x1496c19E6775C1A17130CbEf268Ce08765D5e189 53777.2845\n",
      "0xf89d7b9c864f589bbF53a82105107622B35EaA40 -> 0x1441200e2410273DCE5979B2485c06c6101BE75c 99.9843\n",
      "0xbb72F8F898cd9499a86AD15A33f4B2DEEe1Dd665 -> 0xa14EFA5ABf8cF08e0016D2FB86AEe01C0d498464 325\n",
      "0x68841a1806fF291314946EebD0cdA8b348E73d6D -> 0x2d83183754e0B8EcaFAEd81811717C4Af8B63307 2000\n",
      "0x4116Dc511fbdC34C2e5719Bb2D8E023fD8b8Bc42 -> 0x0d4a11d5EEaaC28EC3F61d100daF4d40471f1852 913.383413\n",
      "0x0d4a11d5EEaaC28EC3F61d100daF4d40471f1852 -> 0x5913370D8C8c0118340833f66A14207E3CcE6136 603.977332\n",
      "0x2008b6c3D07B061A84F790C035c2f6dC11A0be70 -> 0x22F9dCF4647084d6C31b2765F6910cd85C178C18 117.62121\n",
      "0x22F9dCF4647084d6C31b2765F6910cd85C178C18 -> 0xaD01C20d5886137e056775af56915de824c8fCe5 0.114092\n",
      "0x22F9dCF4647084d6C31b2765F6910cd85C178C18 -> 0x7B14547D01D57cCEE7Cc430FcB30D5E271a0D9e8 117.507118\n",
      "0x11b815efB8f581194ae79006d24E0d814B7697F6 -> 0x5933C87a4E8d3c15F7AD294D6b95054f7D077c3e 6234.956661\n",
      "0x62e3C242B5e903071458ad90A160493D84911C77 -> 0xD35590a0712760A29cA47aA40b95DfeFb1C03187 453.207248\n",
      "0x951Eb80dF3fDC3EFBE5DAADf88a9c6201DCDF943 -> 0xCd27fa7dC7625Ec54509DdC7632CccfAbd2963dd 1210.954918\n",
      "0xCEA5694Cb129CD9D3756134db56d65f2Da034103 -> 0x0c35339256cFc9505A851d6e6ec778903EEA5228 2782\n",
      "0xAF54A6EFe4510cC6B3d984D952742a8Dd7Ce3acb -> 0x78E851C35326c9296485E9720D85CB3Bd153b428 296.691478\n",
      "0xCAe301E7d1b9f565c47975A19357601FD1BF9479 -> 0x66C49e647e3E8C45f6aD2F3d11B28C88d018223F 1881.850965\n",
      "0x5F1314cF2c13517d79A828c6AAb4b173de47462D -> 0x06da0fd433C1A5d7a4faa01111c044910A184553 67.813882\n",
      "0x0Ab3FbC9025EcE0EA4e0f9D29fbAa94B70923e37 -> 0xAd2c908a6Abc9353DEE31405aCb3ca1887bDe425 968.411929\n",
      "0x4C77eFCB44eeED89AB54Cc0aeba64b2ddF919096 -> 0x92726b8a08Ac85710D622d8E14995ce777ff3391 45\n",
      "0x2902349a7920f38b833dF0857E22463BEDc0a6eD -> 0x64687bC8039e873b8A84d081747718181f64f86b 436.18\n",
      "0x68841a1806fF291314946EebD0cdA8b348E73d6D -> 0x165eB79EA2c85dB3bDda3871E2Ff28436738B9D9 2386.3\n",
      "0x3D55CCb2a943d88D39dd2E62DAf767C69fD0179F -> 0x5b631Cd02Af49dE7Afb3c9c22d7dC3d581f5AD20 500\n",
      "0x68841a1806fF291314946EebD0cdA8b348E73d6D -> 0x0FEeE58Ce28070563bDde20428e4Eca10f65f7F8 963.03\n",
      "0xD6D01AD997F50c14417321050D6dA5AAaC651a8E -> 0x66784429B707dC3FF5b84f57b98EC6ef38Db0411 20000\n",
      "0x91eb2dADb8e55d6D37d0e0C8BFD327b1B70f5c55 -> 0xD3FC3b6e17137d70Bb48255C4272d29BfEb30218 22\n",
      "0x3C69822B6D0A6A3C5abfc9F28eE734cb6f79c427 -> 0x6d3577877c495977C80D7672231c8bF3CC35D2EA 5955\n"
     ]
    }
   ],
   "source": [
    "import time\n",
    "print(\"解析事件：\")\n",
    "start = time.time()\n",
    "# 通过循环，监听事件，持续25秒\n",
    "while True and (time.time() - start) < 25:\n",
    "    # 通过循环，持续监听事件\n",
    "    newEvent = event_filter.get_new_entries()\n",
    "    # 判断是否有新的事件被释放\n",
    "    if len(newEvent) :\n",
    "        # 提取监听到的事件，并进行解析\n",
    "        for log in newEvent:\n",
    "            print(f\"{log.args[\"from\"]} -> {log.args[\"to\"]} {Provider.from_wei(log.args[\"value\"], \"mwei\")}\")\n",
    "    # 控制查询间隔\n",
    "    time.sleep(1)"
   ]
  },
  {
   "cell_type": "code",
   "execution_count": null,
   "metadata": {},
   "outputs": [],
   "source": []
  }
 ],
 "metadata": {
  "kernelspec": {
   "display_name": "blockchain",
   "language": "python",
   "name": "python3"
  },
  "language_info": {
   "codemirror_mode": {
    "name": "ipython",
    "version": 3
   },
   "file_extension": ".py",
   "mimetype": "text/x-python",
   "name": "python",
   "nbconvert_exporter": "python",
   "pygments_lexer": "ipython3",
   "version": "3.12.0"
  }
 },
 "nbformat": 4,
 "nbformat_minor": 2
}
