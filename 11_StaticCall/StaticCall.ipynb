{
 "cells": [
  {
   "cell_type": "code",
   "execution_count": 1,
   "metadata": {},
   "outputs": [],
   "source": [
    "from web3 import Web3\n",
    "from ens import ENS\n",
    "# 准备 alchemy API \n",
    "# 可以参考https://github.com/AmazingAng/WTFSolidity/blob/main/Topics/Tools/TOOL04_Alchemy/readme.md \n",
    "ALCHEMY_MAINNET_URL = 'https://eth-mainnet.g.alchemy.com/v2/oKmOQKbneVkxgHZfibs-iFhIlIAl6HDN'\n",
    "Provider = Web3(Web3.HTTPProvider(ALCHEMY_MAINNET_URL))\n",
    "Provider.is_connected()\n",
    "ns = ENS.from_web3(Provider)"
   ]
  },
  {
   "cell_type": "code",
   "execution_count": 2,
   "metadata": {},
   "outputs": [],
   "source": [
    "from eth_account import Account\n",
    "private_key = \"0x227dbb8586117d55284e26620bc76534dfbd2394be34cf4a09cb775d593b6f2b\"\n",
    "wallet = Account.from_key(private_key)"
   ]
  },
  {
   "cell_type": "code",
   "execution_count": 3,
   "metadata": {},
   "outputs": [],
   "source": [
    "# DAI合约地址\n",
    "AddressDAI = Provider.to_checksum_address(\"0x6B175474E89094C44Da98b954EedeAC495271d0F\")\n",
    "# DAI合约的abi，只包含后续调用的transfer和balanceOf方法\n",
    "abiDAI = [\n",
    "    {\n",
    "        \"inputs\": [\n",
    "            {\"internalType\": \"address\", \"name\": \"dst\", \"type\": \"address\"},\n",
    "            {\"internalType\": \"uint256\", \"name\": \"wad\", \"type\": \"uint256\"},\n",
    "        ],\n",
    "        \"name\": \"transfer\",\n",
    "        \"outputs\": [{\"internalType\": \"bool\", \"name\": \"\", \"type\": \"bool\"}],\n",
    "        \"stateMutability\": \"nonpayable\",\n",
    "        \"type\": \"function\",\n",
    "    },\n",
    "    {\n",
    "        \"inputs\": [{\"internalType\": \"address\", \"name\": \"\", \"type\": \"address\"}],\n",
    "        \"name\": \"balanceOf\",\n",
    "        \"outputs\": [{\"internalType\": \"uint256\", \"name\": \"\", \"type\": \"uint256\"}],\n",
    "        \"stateMutability\": \"view\",\n",
    "        \"type\": \"function\",\n",
    "    }\n",
    "]\n",
    "# 创建DAI合约实例\n",
    "contractDAI = Provider.eth.contract(address = AddressDAI, abi = abiDAI)"
   ]
  },
  {
   "cell_type": "code",
   "execution_count": 4,
   "metadata": {},
   "outputs": [
    {
     "name": "stdout",
     "output_type": "stream",
     "text": [
      "1. 读取测试钱包的DAI余额\n"
     ]
    },
    {
     "name": "stdout",
     "output_type": "stream",
     "text": [
      "DAI的持仓为： 0\n"
     ]
    }
   ],
   "source": [
    "# 获取钱包地址\n",
    "address = wallet.address\n",
    "print(\"1. 读取测试钱包的DAI余额\")\n",
    "balanceDAI = contractDAI.caller.balanceOf(address)\n",
    "print(\"DAI的持仓为：\", balanceDAI)"
   ]
  },
  {
   "cell_type": "code",
   "execution_count": 6,
   "metadata": {},
   "outputs": [
    {
     "name": "stdout",
     "output_type": "stream",
     "text": [
      "2.  用call尝试调用transfer转账1 DAI，msg.sender为Vitalik地址\n",
      "本次交易成功\n"
     ]
    }
   ],
   "source": [
    "print(\"2.  用call尝试调用transfer转账1 DAI，msg.sender为Vitalik地址\")\n",
    "try:\n",
    "    tx = contractDAI.functions.transfer(ns.address(\"vitalik.eth\"),Provider.to_wei(1,'ether')).call({\"from\":ns.address(\"vitalik.eth\")})\n",
    "    print(f\"本次交易{'成功' if tx else '失败'}\")\n",
    "except Exception as error:\n",
    "    print(f\"交易失败，失败原因为{error}\")"
   ]
  },
  {
   "cell_type": "code",
   "execution_count": 7,
   "metadata": {},
   "outputs": [
    {
     "name": "stdout",
     "output_type": "stream",
     "text": [
      "3.  用call尝试调用transfer转账10000 DAI，msg.sender为自己的钱包地址\n",
      "交易失败，失败原因为execution reverted: Dai/insufficient-balance\n"
     ]
    }
   ],
   "source": [
    "print(\"3.  用call尝试调用transfer转账10000 DAI，msg.sender为自己的钱包地址\")\n",
    "try:\n",
    "    tx = contractDAI.functions.transfer(ns.address(\"vitalik.eth\"),Provider.to_wei(10000,'ether')).call({\"from\":address})\n",
    "    print(f\"本次交易{'成功' if tx else '失败'}\")\n",
    "except Exception as error:\n",
    "    print(f\"交易失败，失败原因为{error}\")"
   ]
  }
 ],
 "metadata": {
  "kernelspec": {
   "display_name": "blockchain",
   "language": "python",
   "name": "python3"
  },
  "language_info": {
   "codemirror_mode": {
    "name": "ipython",
    "version": 3
   },
   "file_extension": ".py",
   "mimetype": "text/x-python",
   "name": "python",
   "nbconvert_exporter": "python",
   "pygments_lexer": "ipython3",
   "version": "3.12.0"
  }
 },
 "nbformat": 4,
 "nbformat_minor": 2
}
