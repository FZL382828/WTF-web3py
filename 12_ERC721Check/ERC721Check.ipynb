{
 "cells": [
  {
   "cell_type": "code",
   "execution_count": 1,
   "metadata": {},
   "outputs": [
    {
     "data": {
      "text/plain": [
       "True"
      ]
     },
     "execution_count": 1,
     "metadata": {},
     "output_type": "execute_result"
    }
   ],
   "source": [
    "from web3 import Web3\n",
    "# 准备 alchemy API \n",
    "# 可以参考https://github.com/AmazingAng/WTFSolidity/blob/main/Topics/Tools/TOOL04_Alchemy/readme.md \n",
    "ALCHEMY_MAINNET_URL = 'https://eth-mainnet.g.alchemy.com/v2/oKmOQKbneVkxgHZfibs-iFhIlIAl6HDN'\n",
    "Provider = Web3(Web3.HTTPProvider(ALCHEMY_MAINNET_URL))\n",
    "Provider.is_connected()"
   ]
  },
  {
   "cell_type": "code",
   "execution_count": 2,
   "metadata": {},
   "outputs": [],
   "source": [
    "# ERC721的合约abi，只需要name、symbol、supportsInterface三个函数\n",
    "abiERC721 = [\n",
    "    {\"inputs\": [],\"name\": \"name\", \"outputs\": [{\"type\": \"string\"}], \"stateMutability\": \"view\", \"type\": \"function\"},\n",
    "    {\"inputs\": [],\"name\": \"symbol\", \"outputs\": [{\"type\": \"string\"}], \"stateMutability\": \"view\", \"type\": \"function\"},\n",
    "    {\n",
    "        \"inputs\": [{\"type\": \"bytes4\"}],\n",
    "        \"name\": \"supportsInterface\",\n",
    "        \"outputs\": [{\"type\": \"bool\"}],\n",
    "        \"stateMutability\": \"view\",\n",
    "        \"type\": \"function\",\n",
    "    }\n",
    "]\n",
    "# ERC721的合约地址，这里使用BAYC\n",
    "addressBAYC = Provider.to_checksum_address(\"0xbc4ca0eda7647a8ab7c2061c2e118a18a936f13d\")\n",
    "# 创建ERC721合约实例\n",
    "contractERC721 = Provider.eth.contract(address=addressBAYC, abi=abiERC721)"
   ]
  },
  {
   "cell_type": "code",
   "execution_count": 3,
   "metadata": {},
   "outputs": [
    {
     "name": "stdout",
     "output_type": "stream",
     "text": [
      "读取ERC721合约信息\n",
      "合约地址： 0xBC4CA0EdA7647A8aB7C2061c2E118A18a936f13D\n",
      "合约名称： BoredApeYachtClub\n",
      "合约代号： BAYC\n"
     ]
    }
   ],
   "source": [
    "# 1. 读取ERC721合约的链上信息\n",
    "nameERC721 = contractERC721.caller.name()\n",
    "symbolERC721 = contractERC721.caller.symbol()\n",
    "print(\"读取ERC721合约信息\")\n",
    "print(\"合约地址：\", addressBAYC)\n",
    "print(\"合约名称：\", nameERC721)\n",
    "print(\"合约代号：\", symbolERC721)"
   ]
  },
  {
   "cell_type": "code",
   "execution_count": 4,
   "metadata": {},
   "outputs": [
    {
     "name": "stdout",
     "output_type": "stream",
     "text": [
      "2. 利用ERC165的supportsInterface，确定合约是否为ERC721标准\n",
      "合约符合ERC721标准\n"
     ]
    }
   ],
   "source": [
    "# 2. 利用ERC165的supportsInterface，确定合约是否为ERC721标准\n",
    "# ERC721接口的ERC165 identifier\n",
    "selectorERC721 = \"0x80ac58cd\"\n",
    "isERC721 = contractERC721.caller.supportsInterface(selectorERC721)\n",
    "print(\"2. 利用ERC165的supportsInterface，确定合约是否为ERC721标准\")\n",
    "print(f\"合约{'符合' if isERC721 else '不符合'}ERC721标准\")"
   ]
  }
 ],
 "metadata": {
  "kernelspec": {
   "display_name": "blockchain",
   "language": "python",
   "name": "python3"
  },
  "language_info": {
   "codemirror_mode": {
    "name": "ipython",
    "version": 3
   },
   "file_extension": ".py",
   "mimetype": "text/x-python",
   "name": "python",
   "nbconvert_exporter": "python",
   "pygments_lexer": "ipython3",
   "version": "3.12.0"
  }
 },
 "nbformat": 4,
 "nbformat_minor": 2
}
