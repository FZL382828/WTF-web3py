{
 "cells": [
  {
   "cell_type": "code",
   "execution_count": 1,
   "id": "682b751a",
   "metadata": {},
   "outputs": [],
   "source": [
    "from web3 import Web3, EthereumTesterProvider"
   ]
  },
  {
   "cell_type": "code",
   "execution_count": 2,
   "id": "3f281d38",
   "metadata": {},
   "outputs": [],
   "source": [
    "w3 = Web3(EthereumTesterProvider())"
   ]
  },
  {
   "cell_type": "code",
   "execution_count": 3,
   "id": "902b456d",
   "metadata": {},
   "outputs": [
    {
     "data": {
      "text/plain": [
       "True"
      ]
     },
     "execution_count": 3,
     "metadata": {},
     "output_type": "execute_result"
    }
   ],
   "source": [
    "w3.is_connected()"
   ]
  },
  {
   "cell_type": "code",
   "execution_count": 4,
   "id": "7b6ed22d",
   "metadata": {},
   "outputs": [],
   "source": [
    "w3 = Web3(Web3.HTTPProvider('https://eth-mainnet.g.alchemy.com/v2/hjZ-SwVhjRtBk-yUJ1SkWSTrz_dJl7of'))"
   ]
  },
  {
   "cell_type": "code",
   "execution_count": 5,
   "id": "55cfbeb6",
   "metadata": {},
   "outputs": [
    {
     "data": {
      "text/plain": [
       "True"
      ]
     },
     "execution_count": 5,
     "metadata": {},
     "output_type": "execute_result"
    }
   ],
   "source": [
    "w3.is_connected()"
   ]
  },
  {
   "cell_type": "code",
   "execution_count": 6,
   "id": "daca5f81",
   "metadata": {},
   "outputs": [
    {
     "data": {
      "text/plain": [
       "AttributeDict({'baseFeePerGas': 31920440810,\n",
       " 'difficulty': 0,\n",
       " 'extraData': HexBytes('0x546974616e2028746974616e6275696c6465722e78797a29'),\n",
       " 'gasLimit': 30000000,\n",
       " 'gasUsed': 21813346,\n",
       " 'hash': HexBytes('0x333b2b306d67a62750d0bf19fbf8c52032c47dae08e6382eb6c0e4f16af841ee'),\n",
       " 'logsBloom': HexBytes('0x4b333215a1145066531b248abe025229b083c9113883026d02818152302213f272329549a90243010a94108234ff1dac56738a1acd7331be6240f430236825940cc56b08cdf805ede94bd52f8320a8a5dcfd8a4101439e881942e376c2a4a9d472450e593e5ac9eba818e1028cf00a1c4b0f8f6ac4169e8dbab0071574ca48188723244d06d2dc13394467e225934e22a2118de105315648cf0f04fdc25612f16234210c3dc17533e10690c67d9ce048ae5d4289ed6e890b86c101548c2c9f60d1fc4ec280041c0a46a14853486b170e205c85c3666a2e161f2565225c1ea2ae3a5ab4fdacd1a5a8102f9049b9f6d1010108b5c0891071d9655d7d24362bcc18'),\n",
       " 'miner': '0x6d2e03b7EfFEae98BD302A9F836D0d6Ab0002766',\n",
       " 'mixHash': HexBytes('0x3ef2e93520e6459ed5af9f3a2ad2bac169adb94dd44c2bf1adc580461c84c9ba'),\n",
       " 'nonce': HexBytes('0x0000000000000000'),\n",
       " 'number': 18776037,\n",
       " 'parentHash': HexBytes('0x801aadd4e431bf5d51305a8596c8ab42403c1f3ee8bf0e5b28807a371a8f9971'),\n",
       " 'receiptsRoot': HexBytes('0x33d84448f9a67cc62bf3a2519dd7de2e463eaecfba9f70b7051523c0e6ad87c0'),\n",
       " 'sha3Uncles': HexBytes('0x1dcc4de8dec75d7aab85b567b6ccd41ad312451b948a7413f0a142fd40d49347'),\n",
       " 'size': 802016,\n",
       " 'stateRoot': HexBytes('0xa0127607b988ec1fd71f8aec4b7721cc4feebaac32607c957a828fb86d9f589d'),\n",
       " 'timestamp': 1702455803,\n",
       " 'totalDifficulty': 58750003716598352816469,\n",
       " 'transactions': [HexBytes('0x396af73630376cd08b47aa4c17ce23f8f262c8b128093e3b22109f33538013ad'),\n",
       "  HexBytes('0x109611cd216707789520419911be4acb0cf243836bc94bd072dc1fd205fc9b6e'),\n",
       "  HexBytes('0x6c9d29a9eb752e857dc5a6096f78cef3f7dc434c75dc3aff658f5710a6e5416f'),\n",
       "  HexBytes('0xddc3accb971955f3495d58ef49092fc69cdc10832af065fd29d579822354097d'),\n",
       "  HexBytes('0x41c86ba7ec11a8cc5812a3fff6ce4aae790a1d1088424245974a769778917a5b'),\n",
       "  HexBytes('0x514494a7d0235429c88f19215b12e7667bf3484847af90bf2136b30250f42e50'),\n",
       "  HexBytes('0xfa954721aeb2b807f4bae0e5e988bc8feff186877e3ff0ab8f3142a8203757c8'),\n",
       "  HexBytes('0x775ea39027149bd2c3f1375f0358c9f9598c8e7568b04368e1407e9e0ef48477'),\n",
       "  HexBytes('0xab359e179437613d47c03a6bbb75ea732256682b770688b54592e1b14a6008d7'),\n",
       "  HexBytes('0x998e31d8f8830471446c7e3fa549f7619c242ef3b61d50b903a9e49e6cd4e65a'),\n",
       "  HexBytes('0xf35758370f507aa61b67fec19b56e3d742a6a8f26c811f2bd48fa4f66ee3fe2d'),\n",
       "  HexBytes('0xd9ec245e7933880c74ebc3865c43048fff491206d0b71ce19d58f1afbf3fdc0e'),\n",
       "  HexBytes('0x5f5dc97f11194f7e4e1d84289d482920a54712d685cd3af480e4a198062dddba'),\n",
       "  HexBytes('0x09a386bd179e66bd56583a2c868546064e43754ec1c8117a0e62811aece1e2e6'),\n",
       "  HexBytes('0x700baa84e1958c04267aa53ee43a04d2f9627967cd062bb14a99f8546e63ef02'),\n",
       "  HexBytes('0x5d278571a29e585a0d5273cace5fcabe255e0fcf9b22915753883214b15f96bc'),\n",
       "  HexBytes('0x8a473313f60dc3e2f17442a5f7855b6fb7c175ec6ef66d360511a5c4e19dbede'),\n",
       "  HexBytes('0x07bc82749f476f08132f956e062b0b7bd2549f7d301f25eba11047f2fe90ad65'),\n",
       "  HexBytes('0x33c5ad8ca5dad66ce090a2440d1f8f897f826c08ed06ba93a5793f7e661b4b50'),\n",
       "  HexBytes('0x70a54dc3b9d4a7a25de47d58a2758f93997b2c166a710346c2ec49693aeabab6'),\n",
       "  HexBytes('0x5991c65dbc37dd8496203363513ed1670c16c299005c3380fc23a8deb183ce94'),\n",
       "  HexBytes('0xf45fa59de7eaa8524cd3f3899150acd4d0896eec93948ca3d8ab99508de0e6f8'),\n",
       "  HexBytes('0xb238b4ddf99876a3fcb7415ab45de6bd3b707668d27b49fec15b4bfe268b0100'),\n",
       "  HexBytes('0xf1aeadf1d519fc6dc7012e677dcfa44ffd268a0038ec73356aed1a19eca1bfde'),\n",
       "  HexBytes('0xf80d2219fbeecf93d0bc8bba2bb22074060243f346a447e13e85215ad57f338f'),\n",
       "  HexBytes('0x320c22afaf1cfd3925a5abafcb8cdfa22eb66451047c8670e8f0a7cfacec0ece'),\n",
       "  HexBytes('0xe6b430de00d9b43ac9ba791b37b0d9e88f38104ebcf0369b4924202b9e475b8c'),\n",
       "  HexBytes('0x49e2ff545a6477f3557008303878f0eb3dc2d6e0ad48cf72124429363a8af192'),\n",
       "  HexBytes('0xbcb0c2406eca501986a9933b821a60fe725e350a4f4227be9c0a39e2cddace59'),\n",
       "  HexBytes('0x6e83d92a92e207c676c1c991ef00115f6a8698c7720b3c0c3067169b885149e5'),\n",
       "  HexBytes('0x9ccc5d91e1d38ca557e6a01e1ab43b9fb376808dfe5a7e579fe2c1ae372dcf12'),\n",
       "  HexBytes('0x0282656103928e14275d529af054af701720d04d204df352d9d04e761be1699e'),\n",
       "  HexBytes('0x5be8a0646b1d75db798fcd7c12a1e93ff68cf77085c76b9a89665d88549dc783'),\n",
       "  HexBytes('0x65a7bad33dea57e3e14b54a2a0f46ad654e3ef2d87a12fd0bf1526d2a1a9b3ba'),\n",
       "  HexBytes('0xe5d042f69152dd0c04e91df5aac97134c3cd95ae88aa5c3a4aed2268f15c77e1'),\n",
       "  HexBytes('0x197eaad7341ae67104f49064ff7175920267aa096c32c0d6abd429b36302e909'),\n",
       "  HexBytes('0x0ac6521969075b3dc062dd14f6aec7ee9d9c184e21ce9e723dd754a276198481'),\n",
       "  HexBytes('0x564c587567810a258e9ebbc86f55dee2c6b521a15281bb4d50728ab889891b75'),\n",
       "  HexBytes('0x76119f276d09770f295af20336baf78a0983935afa2ed118b8f8ce7d7fe57616'),\n",
       "  HexBytes('0x9a13c8c785349902372c705a596d426b68f239b8306cc7dae93fae99df78e94e'),\n",
       "  HexBytes('0x818e73fab62def8f1976ddf1991f35abd15fc5e23b4a34610178bdba8bc92d60'),\n",
       "  HexBytes('0xdd989930761f4b4e7dd76e15019f1f2593c608c6f0af3c49ad546677f8e1d4ed'),\n",
       "  HexBytes('0x7d38976ea32e2ce1f00be77c592e4e910874f7775b3e80402cb1dbcf5edc80f5'),\n",
       "  HexBytes('0x9ddd3a3fabbdf2285ead09b6cf0987ddf6464fcb84da2c45b2c50986c95a8924'),\n",
       "  HexBytes('0xe3aab0788999eb543460667b5582e24a2247ded83fc7324e78adb4c74717eeab'),\n",
       "  HexBytes('0x570c914aca1e3e14eb1ea08108d5697cbda13d05c56541b9a07c3507568ccbef'),\n",
       "  HexBytes('0x38013c801160c2396d6b9ed32bb89e5dab986c856fd84297a54e8e5ef4c3b8d7'),\n",
       "  HexBytes('0x8152a178ca1d1867db7db91ae21a1e07336a70d7215b552b162f044f6dc0ce8b'),\n",
       "  HexBytes('0xa761f1926e1a475ae4085822b7cb181b8e9fef64a0afbc98540cd081ec2c201c'),\n",
       "  HexBytes('0x0a521ae21fad67c3b9394dd4b960aabb91f01d792782da29d041f2dc7cc2d826'),\n",
       "  HexBytes('0x30e4b0fedf11fba1c1eba245d08fd0df577b5f9454e302d5c1584cdabd9af6db'),\n",
       "  HexBytes('0x880931fa6f051ce12ecb45806b3b30a8dbefb6bcb756ee3557bf3861875d571a'),\n",
       "  HexBytes('0x068648ed5a8784e45763743191f2b318f4177edc59fcc382964dfca2978b62f2'),\n",
       "  HexBytes('0x7257a3bcc812b26f1359b485c0c7cae30430c9162741d8db33a96d28df243b65'),\n",
       "  HexBytes('0xf002b4a9c552928ac7665773e0fa03dbd6f2d6fad58abf103676e0fb9e8ddf84'),\n",
       "  HexBytes('0xce042c65f9398f37debe1ba63ae3a8a4e8763f8b451ea1260b56039cc15900cc'),\n",
       "  HexBytes('0x4cd085b6a38f87b43260e6129f3daf6c440289ac300b9ce7c217676378799beb'),\n",
       "  HexBytes('0xb0e944375f3cd0f400f9133407fa2cddbf7ecd94356ca568bc2aad8285585a7a'),\n",
       "  HexBytes('0xd7d170a33554727e71502c15ca99d0e0fe2a629b1714cfc8d922d290bbdaa6e4'),\n",
       "  HexBytes('0x47bacec0d0d4f91ca0901ff09f7cbcfc496532cc8609d1554b939afb5928773f'),\n",
       "  HexBytes('0x3619ef6f03d26ee960fa3424006828982c9eddf68079d1ebc291c164fd826ef7'),\n",
       "  HexBytes('0x59a68890a3a5ecd6a96ed51020401887eddd93f9c72dbce88439213a018d2ee2'),\n",
       "  HexBytes('0x0d9c603757bb6444e58a2b429dc99c00fa36dbe94783b98ee6fd8f82093c6f2f'),\n",
       "  HexBytes('0x90b3d0b84822f053a4c70a9f3e6286bc4369fe7c4de4e814d91b96314b8fe221'),\n",
       "  HexBytes('0x791f6541cdb05c4220e1465a9ea2af1c536e3569dd9985502e05a4d9f7f0fc33'),\n",
       "  HexBytes('0x27b5b04c93c3b501ffad9be30a64192115e88abe22764140f230d9d55be52ee4'),\n",
       "  HexBytes('0xfbc12d7ccc3ddf9e5681721632ff1717a6f91c8db5bf013e1e788c9da2541685'),\n",
       "  HexBytes('0xe28e39f5156fe270853d78caa65f13565d7c17e1893e99357a53a9167901df78'),\n",
       "  HexBytes('0x7fa01754d037a7e0e1b6666baea0fd2cf1bdd45d8d6560b1ae019d0bbadfa7c4'),\n",
       "  HexBytes('0xce626b847d5cb15d26f88c9fb17d80a15efdb6a35c16da5599ab94daa98591b1'),\n",
       "  HexBytes('0xd8ee52a0b6036e4c2ac5f3a3655a3bf7ee305a30f0f4a8062f540418eb4541f8'),\n",
       "  HexBytes('0x7877a28ad5b686a8703fcba52c21e46012ece1f1b213b7a3e19fb2771e6f15c3'),\n",
       "  HexBytes('0x99ec8135c30f11826e78e0291f57c7905926c810bf663cb00b96a9d934993da7'),\n",
       "  HexBytes('0xe68cb56ce811c49cec2ded2975805d18c19e13abef45ae67a5123122c6b5b896'),\n",
       "  HexBytes('0xb34aa82057718a34e0ecb293855cf57cbc3bb19b4946a1f6e0aa911dbd9e0d88'),\n",
       "  HexBytes('0x0443ea6312761226979300e59066c0f6883dac179e1584803abfcfcd449b7502'),\n",
       "  HexBytes('0x48abbcfdf70c9a18c0c29021073936dbe7c3ea9847915e5d51abfee06a80ae1f'),\n",
       "  HexBytes('0x7d2e0809eaa268765892e5d3b0c8a5ba14c057c2db59b564f0a51ba65dff0ba5'),\n",
       "  HexBytes('0x309201858565a66ad18199d4e71a7c554a22579534234746dcbaa63ee0f2cadf'),\n",
       "  HexBytes('0x2bb627f932ce5adae837f87af083cb7713c45dd411649fab4f4d74b7bcb41714'),\n",
       "  HexBytes('0x7e508d5c1b9adc758a67dfc806e340c220589bad7b33061484cc6e9b526d35b2'),\n",
       "  HexBytes('0xce12905f10fbec12c7b7435a0a7b58058a5e4ab0d04d0bd284db1defe6ff70d1'),\n",
       "  HexBytes('0xcaf1576d7778d4b114421d8ca4809046e45864d380f30df6d2af31edc2edf05f'),\n",
       "  HexBytes('0x3f1fec784dec022fc2765006c0425bb8a46a8afb70f1b48903d551a9da756ae4'),\n",
       "  HexBytes('0xc3df5f9149c941e4388a651c87edc6f3f9fa8f397de9a23eb98d9655b0ce1eb5'),\n",
       "  HexBytes('0x3265991be2f14c969cd32f1b705c842c8289a36d081872699e01f9c86bf5fad6'),\n",
       "  HexBytes('0x153e2b29dfb11f99e50b63d2dae96286a434a058ee82f5be4179c99d617cf932'),\n",
       "  HexBytes('0x7f8d7717a20d1be66baf45d582c5fd7dee96857dc7d4866a2c70048fc6cdc6d8'),\n",
       "  HexBytes('0xac72f7e73937966f7559e5ab5d9ba5f71e85d2febbf4b7d7e253e7bc7fee7d51'),\n",
       "  HexBytes('0x31a71a9ce9b0aba85d670a075d3102677cfa2ea4f7bd25eb126b197b088cece4'),\n",
       "  HexBytes('0x78722748e25c679ed59e134087e0fc32b11f0197c945563b95a8bff2b71bc689'),\n",
       "  HexBytes('0xcad59d6c02678d4f05a4f358ad7f8d4789826d43e3e625de548aba731b5af59c'),\n",
       "  HexBytes('0x960a786eb5e6b7b5f2a511c3e890a14d12a342dbc6c5de3b19f2bac127f877b1'),\n",
       "  HexBytes('0x795b8d76ee3b80e57395c5a673a73d68e59bb1ad4f31d55bad3f41768ee5bfd7'),\n",
       "  HexBytes('0x1d46bab572f4a4f817a03e08e4b22754cd6f41c99b5bbd44fd712be67c3a8aca'),\n",
       "  HexBytes('0xea123f2502ec8cd90ed86593aceda7bee64f77d5498e237e7b5e7932d8471351'),\n",
       "  HexBytes('0x8c3330e404e4edd35e13ee9a9c6110c3f03b62be70449c3a9ebd42bc2c826d36'),\n",
       "  HexBytes('0x7e965c155c2521ea0e594271eb3291d0e6e0fe1519c2378e509287094069971b'),\n",
       "  HexBytes('0xa17dd66337164f3987d5e3b83773d1995ff03350f9d3b2ef1aa0180025befc83'),\n",
       "  HexBytes('0x210ceb9c8dbe4f74a51c95a2d11c5bdd4404ced4886cd0ca1ddd61378cdf3fa6'),\n",
       "  HexBytes('0xea0a63ba70c156bde5bbea0d64ca6570829f9a269b918a21442e95044d5a47e5'),\n",
       "  HexBytes('0xc241d142056d9b864ab34c78b524c1d3b1d2d214b30b9d735a7038c94372e52f'),\n",
       "  HexBytes('0xee7f97e083d59380e72e058db7aa8174b59f0cf6d8281893edf5c99d7e01671d'),\n",
       "  HexBytes('0x8518b6a9a9bc97ccccdf639854e9608d30c79c5af3ce7590f9483f8964b01f8a'),\n",
       "  HexBytes('0xaa4bdd198e046db4fd6eff8762b7f64bf0c1a61dece62b39397828bd2612aae0'),\n",
       "  HexBytes('0x2c776cdfc7151dd6be9eb821a595bf83946e092a6bfc00d8907b9990685b9c88'),\n",
       "  HexBytes('0x6c8525f128ffc14b9883aa607cf5cdbb98f717fe77c4140a619effef73b27c4f'),\n",
       "  HexBytes('0x34d7a48752f18e8d63368e8973abb629849b70d33213476b87c2217f4090903c')],\n",
       " 'transactionsRoot': HexBytes('0x085f949d37a74886cea18d91f2538a9e6b2275ec5f5a99f82ae94180013b8f0b'),\n",
       " 'uncles': [],\n",
       " 'withdrawals': [AttributeDict({'index': 27857222,\n",
       "   'validatorIndex': 826323,\n",
       "   'address': '0xB9D7934878B5FB9610B3fE8A5e441e8fad7E293f',\n",
       "   'amount': 17372686}),\n",
       "  AttributeDict({'index': 27857223,\n",
       "   'validatorIndex': 826324,\n",
       "   'address': '0xB9D7934878B5FB9610B3fE8A5e441e8fad7E293f',\n",
       "   'amount': 17392796}),\n",
       "  AttributeDict({'index': 27857224,\n",
       "   'validatorIndex': 826325,\n",
       "   'address': '0xB9D7934878B5FB9610B3fE8A5e441e8fad7E293f',\n",
       "   'amount': 17392563}),\n",
       "  AttributeDict({'index': 27857225,\n",
       "   'validatorIndex': 826326,\n",
       "   'address': '0xB9D7934878B5FB9610B3fE8A5e441e8fad7E293f',\n",
       "   'amount': 17382127}),\n",
       "  AttributeDict({'index': 27857226,\n",
       "   'validatorIndex': 826327,\n",
       "   'address': '0xB9D7934878B5FB9610B3fE8A5e441e8fad7E293f',\n",
       "   'amount': 17365245}),\n",
       "  AttributeDict({'index': 27857227,\n",
       "   'validatorIndex': 826328,\n",
       "   'address': '0xB9D7934878B5FB9610B3fE8A5e441e8fad7E293f',\n",
       "   'amount': 17382906}),\n",
       "  AttributeDict({'index': 27857228,\n",
       "   'validatorIndex': 826329,\n",
       "   'address': '0xB9D7934878B5FB9610B3fE8A5e441e8fad7E293f',\n",
       "   'amount': 17386632}),\n",
       "  AttributeDict({'index': 27857229,\n",
       "   'validatorIndex': 826330,\n",
       "   'address': '0xB9D7934878B5FB9610B3fE8A5e441e8fad7E293f',\n",
       "   'amount': 17392493}),\n",
       "  AttributeDict({'index': 27857230,\n",
       "   'validatorIndex': 826331,\n",
       "   'address': '0xB9D7934878B5FB9610B3fE8A5e441e8fad7E293f',\n",
       "   'amount': 17402955}),\n",
       "  AttributeDict({'index': 27857231,\n",
       "   'validatorIndex': 826332,\n",
       "   'address': '0xB9D7934878B5FB9610B3fE8A5e441e8fad7E293f',\n",
       "   'amount': 17319041}),\n",
       "  AttributeDict({'index': 27857232,\n",
       "   'validatorIndex': 826333,\n",
       "   'address': '0xB9D7934878B5FB9610B3fE8A5e441e8fad7E293f',\n",
       "   'amount': 17337248}),\n",
       "  AttributeDict({'index': 27857233,\n",
       "   'validatorIndex': 826334,\n",
       "   'address': '0xB9D7934878B5FB9610B3fE8A5e441e8fad7E293f',\n",
       "   'amount': 17303882}),\n",
       "  AttributeDict({'index': 27857234,\n",
       "   'validatorIndex': 826335,\n",
       "   'address': '0xB9D7934878B5FB9610B3fE8A5e441e8fad7E293f',\n",
       "   'amount': 17286299}),\n",
       "  AttributeDict({'index': 27857235,\n",
       "   'validatorIndex': 826336,\n",
       "   'address': '0xB9D7934878B5FB9610B3fE8A5e441e8fad7E293f',\n",
       "   'amount': 17369253}),\n",
       "  AttributeDict({'index': 27857236,\n",
       "   'validatorIndex': 826337,\n",
       "   'address': '0xB9D7934878B5FB9610B3fE8A5e441e8fad7E293f',\n",
       "   'amount': 17366955}),\n",
       "  AttributeDict({'index': 27857237,\n",
       "   'validatorIndex': 826338,\n",
       "   'address': '0xB9D7934878B5FB9610B3fE8A5e441e8fad7E293f',\n",
       "   'amount': 17373555})],\n",
       " 'withdrawalsRoot': HexBytes('0xd9ee6c50b1f6c8690f950ebd4c430127d85f5d45803fdaad50aa6ae4e778b0a2')})"
      ]
     },
     "execution_count": 6,
     "metadata": {},
     "output_type": "execute_result"
    }
   ],
   "source": [
    "w3.eth.get_block('latest')"
   ]
  },
  {
   "cell_type": "code",
   "execution_count": 10,
   "id": "1525dbab",
   "metadata": {},
   "outputs": [],
   "source": [
    "addressUSDT='0xdAC17F958D2ee523a2206206994597C13D831ec7'\n",
    "ABIUSDT='[{\"constant\":true,\"inputs\":[],\"name\":\"name\",\"outputs\":[{\"name\":\"\",\"type\":\"string\"}],\"payable\":false,\"stateMutability\":\"view\",\"type\":\"function\"},{\"constant\":false,\"inputs\":[{\"name\":\"_upgradedAddress\",\"type\":\"address\"}],\"name\":\"deprecate\",\"outputs\":[],\"payable\":false,\"stateMutability\":\"nonpayable\",\"type\":\"function\"},{\"constant\":false,\"inputs\":[{\"name\":\"_spender\",\"type\":\"address\"},{\"name\":\"_value\",\"type\":\"uint256\"}],\"name\":\"approve\",\"outputs\":[],\"payable\":false,\"stateMutability\":\"nonpayable\",\"type\":\"function\"},{\"constant\":true,\"inputs\":[],\"name\":\"deprecated\",\"outputs\":[{\"name\":\"\",\"type\":\"bool\"}],\"payable\":false,\"stateMutability\":\"view\",\"type\":\"function\"},{\"constant\":false,\"inputs\":[{\"name\":\"_evilUser\",\"type\":\"address\"}],\"name\":\"addBlackList\",\"outputs\":[],\"payable\":false,\"stateMutability\":\"nonpayable\",\"type\":\"function\"},{\"constant\":true,\"inputs\":[],\"name\":\"totalSupply\",\"outputs\":[{\"name\":\"\",\"type\":\"uint256\"}],\"payable\":false,\"stateMutability\":\"view\",\"type\":\"function\"},{\"constant\":false,\"inputs\":[{\"name\":\"_from\",\"type\":\"address\"},{\"name\":\"_to\",\"type\":\"address\"},{\"name\":\"_value\",\"type\":\"uint256\"}],\"name\":\"transferFrom\",\"outputs\":[],\"payable\":false,\"stateMutability\":\"nonpayable\",\"type\":\"function\"},{\"constant\":true,\"inputs\":[],\"name\":\"upgradedAddress\",\"outputs\":[{\"name\":\"\",\"type\":\"address\"}],\"payable\":false,\"stateMutability\":\"view\",\"type\":\"function\"},{\"constant\":true,\"inputs\":[{\"name\":\"\",\"type\":\"address\"}],\"name\":\"balances\",\"outputs\":[{\"name\":\"\",\"type\":\"uint256\"}],\"payable\":false,\"stateMutability\":\"view\",\"type\":\"function\"},{\"constant\":true,\"inputs\":[],\"name\":\"decimals\",\"outputs\":[{\"name\":\"\",\"type\":\"uint256\"}],\"payable\":false,\"stateMutability\":\"view\",\"type\":\"function\"},{\"constant\":true,\"inputs\":[],\"name\":\"maximumFee\",\"outputs\":[{\"name\":\"\",\"type\":\"uint256\"}],\"payable\":false,\"stateMutability\":\"view\",\"type\":\"function\"},{\"constant\":true,\"inputs\":[],\"name\":\"_totalSupply\",\"outputs\":[{\"name\":\"\",\"type\":\"uint256\"}],\"payable\":false,\"stateMutability\":\"view\",\"type\":\"function\"},{\"constant\":false,\"inputs\":[],\"name\":\"unpause\",\"outputs\":[],\"payable\":false,\"stateMutability\":\"nonpayable\",\"type\":\"function\"},{\"constant\":true,\"inputs\":[{\"name\":\"_maker\",\"type\":\"address\"}],\"name\":\"getBlackListStatus\",\"outputs\":[{\"name\":\"\",\"type\":\"bool\"}],\"payable\":false,\"stateMutability\":\"view\",\"type\":\"function\"},{\"constant\":true,\"inputs\":[{\"name\":\"\",\"type\":\"address\"},{\"name\":\"\",\"type\":\"address\"}],\"name\":\"allowed\",\"outputs\":[{\"name\":\"\",\"type\":\"uint256\"}],\"payable\":false,\"stateMutability\":\"view\",\"type\":\"function\"},{\"constant\":true,\"inputs\":[],\"name\":\"paused\",\"outputs\":[{\"name\":\"\",\"type\":\"bool\"}],\"payable\":false,\"stateMutability\":\"view\",\"type\":\"function\"},{\"constant\":true,\"inputs\":[{\"name\":\"who\",\"type\":\"address\"}],\"name\":\"balanceOf\",\"outputs\":[{\"name\":\"\",\"type\":\"uint256\"}],\"payable\":false,\"stateMutability\":\"view\",\"type\":\"function\"},{\"constant\":false,\"inputs\":[],\"name\":\"pause\",\"outputs\":[],\"payable\":false,\"stateMutability\":\"nonpayable\",\"type\":\"function\"},{\"constant\":true,\"inputs\":[],\"name\":\"getOwner\",\"outputs\":[{\"name\":\"\",\"type\":\"address\"}],\"payable\":false,\"stateMutability\":\"view\",\"type\":\"function\"},{\"constant\":true,\"inputs\":[],\"name\":\"owner\",\"outputs\":[{\"name\":\"\",\"type\":\"address\"}],\"payable\":false,\"stateMutability\":\"view\",\"type\":\"function\"},{\"constant\":true,\"inputs\":[],\"name\":\"symbol\",\"outputs\":[{\"name\":\"\",\"type\":\"string\"}],\"payable\":false,\"stateMutability\":\"view\",\"type\":\"function\"},{\"constant\":false,\"inputs\":[{\"name\":\"_to\",\"type\":\"address\"},{\"name\":\"_value\",\"type\":\"uint256\"}],\"name\":\"transfer\",\"outputs\":[],\"payable\":false,\"stateMutability\":\"nonpayable\",\"type\":\"function\"},{\"constant\":false,\"inputs\":[{\"name\":\"newBasisPoints\",\"type\":\"uint256\"},{\"name\":\"newMaxFee\",\"type\":\"uint256\"}],\"name\":\"setParams\",\"outputs\":[],\"payable\":false,\"stateMutability\":\"nonpayable\",\"type\":\"function\"},{\"constant\":false,\"inputs\":[{\"name\":\"amount\",\"type\":\"uint256\"}],\"name\":\"issue\",\"outputs\":[],\"payable\":false,\"stateMutability\":\"nonpayable\",\"type\":\"function\"},{\"constant\":false,\"inputs\":[{\"name\":\"amount\",\"type\":\"uint256\"}],\"name\":\"redeem\",\"outputs\":[],\"payable\":false,\"stateMutability\":\"nonpayable\",\"type\":\"function\"},{\"constant\":true,\"inputs\":[{\"name\":\"_owner\",\"type\":\"address\"},{\"name\":\"_spender\",\"type\":\"address\"}],\"name\":\"allowance\",\"outputs\":[{\"name\":\"remaining\",\"type\":\"uint256\"}],\"payable\":false,\"stateMutability\":\"view\",\"type\":\"function\"},{\"constant\":true,\"inputs\":[],\"name\":\"basisPointsRate\",\"outputs\":[{\"name\":\"\",\"type\":\"uint256\"}],\"payable\":false,\"stateMutability\":\"view\",\"type\":\"function\"},{\"constant\":true,\"inputs\":[{\"name\":\"\",\"type\":\"address\"}],\"name\":\"isBlackListed\",\"outputs\":[{\"name\":\"\",\"type\":\"bool\"}],\"payable\":false,\"stateMutability\":\"view\",\"type\":\"function\"},{\"constant\":false,\"inputs\":[{\"name\":\"_clearedUser\",\"type\":\"address\"}],\"name\":\"removeBlackList\",\"outputs\":[],\"payable\":false,\"stateMutability\":\"nonpayable\",\"type\":\"function\"},{\"constant\":true,\"inputs\":[],\"name\":\"MAX_UINT\",\"outputs\":[{\"name\":\"\",\"type\":\"uint256\"}],\"payable\":false,\"stateMutability\":\"view\",\"type\":\"function\"},{\"constant\":false,\"inputs\":[{\"name\":\"newOwner\",\"type\":\"address\"}],\"name\":\"transferOwnership\",\"outputs\":[],\"payable\":false,\"stateMutability\":\"nonpayable\",\"type\":\"function\"},{\"constant\":false,\"inputs\":[{\"name\":\"_blackListedUser\",\"type\":\"address\"}],\"name\":\"destroyBlackFunds\",\"outputs\":[],\"payable\":false,\"stateMutability\":\"nonpayable\",\"type\":\"function\"},{\"inputs\":[{\"name\":\"_initialSupply\",\"type\":\"uint256\"},{\"name\":\"_name\",\"type\":\"string\"},{\"name\":\"_symbol\",\"type\":\"string\"},{\"name\":\"_decimals\",\"type\":\"uint256\"}],\"payable\":false,\"stateMutability\":\"nonpayable\",\"type\":\"constructor\"},{\"anonymous\":false,\"inputs\":[{\"indexed\":false,\"name\":\"amount\",\"type\":\"uint256\"}],\"name\":\"Issue\",\"type\":\"event\"},{\"anonymous\":false,\"inputs\":[{\"indexed\":false,\"name\":\"amount\",\"type\":\"uint256\"}],\"name\":\"Redeem\",\"type\":\"event\"},{\"anonymous\":false,\"inputs\":[{\"indexed\":false,\"name\":\"newAddress\",\"type\":\"address\"}],\"name\":\"Deprecate\",\"type\":\"event\"},{\"anonymous\":false,\"inputs\":[{\"indexed\":false,\"name\":\"feeBasisPoints\",\"type\":\"uint256\"},{\"indexed\":false,\"name\":\"maxFee\",\"type\":\"uint256\"}],\"name\":\"Params\",\"type\":\"event\"},{\"anonymous\":false,\"inputs\":[{\"indexed\":false,\"name\":\"_blackListedUser\",\"type\":\"address\"},{\"indexed\":false,\"name\":\"_balance\",\"type\":\"uint256\"}],\"name\":\"DestroyedBlackFunds\",\"type\":\"event\"},{\"anonymous\":false,\"inputs\":[{\"indexed\":false,\"name\":\"_user\",\"type\":\"address\"}],\"name\":\"AddedBlackList\",\"type\":\"event\"},{\"anonymous\":false,\"inputs\":[{\"indexed\":false,\"name\":\"_user\",\"type\":\"address\"}],\"name\":\"RemovedBlackList\",\"type\":\"event\"},{\"anonymous\":false,\"inputs\":[{\"indexed\":true,\"name\":\"owner\",\"type\":\"address\"},{\"indexed\":true,\"name\":\"spender\",\"type\":\"address\"},{\"indexed\":false,\"name\":\"value\",\"type\":\"uint256\"}],\"name\":\"Approval\",\"type\":\"event\"},{\"anonymous\":false,\"inputs\":[{\"indexed\":true,\"name\":\"from\",\"type\":\"address\"},{\"indexed\":true,\"name\":\"to\",\"type\":\"address\"},{\"indexed\":false,\"name\":\"value\",\"type\":\"uint256\"}],\"name\":\"Transfer\",\"type\":\"event\"},{\"anonymous\":false,\"inputs\":[],\"name\":\"Pause\",\"type\":\"event\"},{\"anonymous\":false,\"inputs\":[],\"name\":\"Unpause\",\"type\":\"event\"}]'"
   ]
  },
  {
   "cell_type": "code",
   "execution_count": 11,
   "id": "6a703b7a",
   "metadata": {},
   "outputs": [],
   "source": [
    "USDTcontract = w3.eth.contract(address=addressUSDT,abi=ABIUSDT)"
   ]
  },
  {
   "cell_type": "code",
   "execution_count": 18,
   "id": "f3f8b6f1",
   "metadata": {},
   "outputs": [
    {
     "data": {
      "text/plain": [
       "'Tether USD'"
      ]
     },
     "execution_count": 18,
     "metadata": {},
     "output_type": "execute_result"
    }
   ],
   "source": [
    "USDTcontract.caller.name()"
   ]
  },
  {
   "cell_type": "code",
   "execution_count": 19,
   "id": "d98f3258",
   "metadata": {
    "scrolled": true
   },
   "outputs": [
    {
     "data": {
      "text/plain": [
       "41013387300953492"
      ]
     },
     "execution_count": 19,
     "metadata": {},
     "output_type": "execute_result"
    }
   ],
   "source": [
    "USDTcontract.caller().totalSupply()"
   ]
  },
  {
   "cell_type": "code",
   "execution_count": 15,
   "id": "90696269",
   "metadata": {},
   "outputs": [
    {
     "data": {
      "text/plain": [
       "267419776"
      ]
     },
     "execution_count": 15,
     "metadata": {},
     "output_type": "execute_result"
    }
   ],
   "source": [
    "USDTcontract.caller.balanceOf('vitalik.eth')"
   ]
  }
 ],
 "metadata": {
  "kernelspec": {
   "display_name": "Python 3 (ipykernel)",
   "language": "python",
   "name": "python3"
  },
  "language_info": {
   "codemirror_mode": {
    "name": "ipython",
    "version": 3
   },
   "file_extension": ".py",
   "mimetype": "text/x-python",
   "name": "python",
   "nbconvert_exporter": "python",
   "pygments_lexer": "ipython3",
   "version": "3.9.12"
  }
 },
 "nbformat": 4,
 "nbformat_minor": 5
}
